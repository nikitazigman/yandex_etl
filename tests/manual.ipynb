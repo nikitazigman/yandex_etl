{
 "cells": [
  {
   "cell_type": "code",
   "execution_count": null,
   "metadata": {},
   "outputs": [],
   "source": [
    "from etl.logic.transformer.dataclasses import SQLContainer, MovieRow, Person, Roles, ESMovieDoc, GenreRow, ESGenreDoc\n",
    "from uuid import uuid4\n",
    "from datetime import datetime"
   ]
  },
  {
   "cell_type": "code",
   "execution_count": null,
   "metadata": {},
   "outputs": [],
   "source": [
    "person = Person(person_id=uuid4(), person_name=\"nikita\", person_role=Roles.WRITTER)\n",
    "movie = MovieRow(\n",
    "    id=uuid4(), \n",
    "    title=\"asda\", \n",
    "    description=\"asdadasdasd\", \n",
    "    rating=1.1, type=\"type\", \n",
    "    created=datetime.now(),\n",
    "    modified=datetime.now(), \n",
    "    genres=[\"asd\",'asdad'],\n",
    "    persons=[person],\n",
    ")\n",
    "genre = GenreRow(id=str(uuid4()), name=\"a123sd\", description=\"asdadasdasdasd\")"
   ]
  },
  {
   "cell_type": "code",
   "execution_count": null,
   "metadata": {},
   "outputs": [],
   "source": [
    "raw_movie = movie.dict(by_alias=True)\n",
    "raw_genre = genre.dict()"
   ]
  },
  {
   "cell_type": "code",
   "execution_count": null,
   "metadata": {},
   "outputs": [],
   "source": [
    "container = SQLContainer(batch=[raw_movie])\n",
    "container.transform()"
   ]
  },
  {
   "cell_type": "code",
   "execution_count": null,
   "metadata": {},
   "outputs": [],
   "source": [
    "container = SQLContainer(batch=[raw_genre])\n",
    "container.transform()"
   ]
  }
 ],
 "metadata": {
  "kernelspec": {
   "display_name": "etl-SxQIcXKy-py3.10",
   "language": "python",
   "name": "python3"
  },
  "language_info": {
   "codemirror_mode": {
    "name": "ipython",
    "version": 3
   },
   "file_extension": ".py",
   "mimetype": "text/x-python",
   "name": "python",
   "nbconvert_exporter": "python",
   "pygments_lexer": "ipython3",
   "version": "3.10.6"
  },
  "orig_nbformat": 4
 },
 "nbformat": 4,
 "nbformat_minor": 2
}
