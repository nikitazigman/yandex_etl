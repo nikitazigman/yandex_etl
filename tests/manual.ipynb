{
 "cells": [
  {
   "cell_type": "code",
   "execution_count": 1,
   "metadata": {},
   "outputs": [],
   "source": [
    "from etl.logic.transformer.dataclasses import SQLContainer, MovieRow, Person, Roles, ESMovieDoc, GenreRow, ESGenreDoc, PersonRow\n",
    "from uuid import uuid4\n",
    "from datetime import datetime"
   ]
  },
  {
   "cell_type": "code",
   "execution_count": 2,
   "metadata": {},
   "outputs": [],
   "source": [
    "_person = Person(person_id=uuid4(), person_name=\"nikita\", person_role=Roles.WRITTER)\n",
    "movie = MovieRow(\n",
    "    id=uuid4(), \n",
    "    title=\"asda\", \n",
    "    description=\"asdadasdasd\", \n",
    "    rating=1.1, type=\"type\", \n",
    "    created=datetime.now(),\n",
    "    modified=datetime.now(), \n",
    "    genres=[\"asd\",'asdad'],\n",
    "    persons=[_person],\n",
    ")\n",
    "genre = GenreRow(id=str(uuid4()), name=\"a123sd\", description=\"asdadasdasdasd\")\n",
    "person = PersonRow(id=str(uuid4()), name=\"a123sd\")"
   ]
  },
  {
   "cell_type": "code",
   "execution_count": 3,
   "metadata": {},
   "outputs": [],
   "source": [
    "raw_movie = movie.dict(by_alias=True)\n",
    "raw_genre = genre.dict(by_alias=True)\n",
    "raw_person = person.dict(by_alias=True)"
   ]
  },
  {
   "cell_type": "code",
   "execution_count": 4,
   "metadata": {},
   "outputs": [
    {
     "data": {
      "text/plain": [
       "ESContainer(bulk=[ESMovieDoc(movie_id='d7562363-6d7f-4c24-a104-3ee6f009e5df', imdb_rating=1.1, genre=['asd', 'asdad'], title='asda', description='asdadasdasd', director=[], actors_names=[], writers_names=['nikita'], actors=[], writers=[ESPerson(person_id='79a72021-a162-47d8-b572-4b803d1992a1', name='nikita')])])"
      ]
     },
     "execution_count": 4,
     "metadata": {},
     "output_type": "execute_result"
    }
   ],
   "source": [
    "container = SQLContainer(batch=[raw_movie])\n",
    "container.transform()"
   ]
  },
  {
   "cell_type": "code",
   "execution_count": 5,
   "metadata": {},
   "outputs": [
    {
     "data": {
      "text/plain": [
       "ESContainer(bulk=[ESGenreDoc(genre_id='72942ece-9450-4b48-a40b-41e8ed23f46b', name='a123sd', description='asdadasdasdasd')])"
      ]
     },
     "execution_count": 5,
     "metadata": {},
     "output_type": "execute_result"
    }
   ],
   "source": [
    "container = SQLContainer(batch=[raw_genre])\n",
    "container.transform()"
   ]
  }
 ],
 "metadata": {
  "kernelspec": {
   "display_name": "etl-SxQIcXKy-py3.10",
   "language": "python",
   "name": "python3"
  },
  "language_info": {
   "codemirror_mode": {
    "name": "ipython",
    "version": 3
   },
   "file_extension": ".py",
   "mimetype": "text/x-python",
   "name": "python",
   "nbconvert_exporter": "python",
   "pygments_lexer": "ipython3",
   "version": "3.10.6"
  },
  "orig_nbformat": 4
 },
 "nbformat": 4,
 "nbformat_minor": 2
}
