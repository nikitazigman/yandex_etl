{
 "cells": [
  {
   "cell_type": "code",
   "execution_count": null,
   "metadata": {},
   "outputs": [],
   "source": [
    "from elasticsearch import Elasticsearch\n",
    "import json\n",
    "import uuid"
   ]
  },
  {
   "cell_type": "code",
   "execution_count": null,
   "metadata": {},
   "outputs": [],
   "source": [
    "es = Elasticsearch(hosts='https://127.0.0.1:9200', basic_auth=[\"elastic\", \"123qwe\"], verify_certs=False)"
   ]
  },
  {
   "cell_type": "code",
   "execution_count": null,
   "metadata": {},
   "outputs": [],
   "source": [
    "res = es.search(index=\"movies\")\n",
    "res.body"
   ]
  },
  {
   "cell_type": "code",
   "execution_count": null,
   "metadata": {},
   "outputs": [],
   "source": [
    "\n",
    "with open(\"../es_schema.json\", \"r\") as file:\n",
    "    index_schema = json.load(file)\n"
   ]
  },
  {
   "cell_type": "code",
   "execution_count": null,
   "metadata": {},
   "outputs": [],
   "source": [
    "\n",
    "es.options(ignore_status=400).indices.create(index=\"movies\", **index_schema)\n",
    "# res = es.indices.create(index=\"movies\", **index_schema)"
   ]
  },
  {
   "cell_type": "code",
   "execution_count": null,
   "metadata": {},
   "outputs": [],
   "source": [
    "from elasticsearch import E"
   ]
  },
  {
   "cell_type": "code",
   "execution_count": null,
   "metadata": {},
   "outputs": [],
   "source": [
    "\n",
    "\n",
    "operations = []\n",
    "for _ in range(10):\n",
    "    _id = uuid.uuid4()\n",
    "    operations.append(\n",
    "        {\n",
    "            \"_id\" : _id, # random UUID for _id\n",
    "            \"_index\" : \"movies\", # random UUID for _id\n",
    "            \"idda\": _id, \n",
    "            \"imdb_rating\": 3.3,\n",
    "            \"genre\":[\"asd\", \"adasd\"],\n",
    "            \"title\": \"asdadasdasd\",\n",
    "            \"description\": \"asdasd\",\n",
    "            \"director\": [\"asd\", \"adasd\"],\n",
    "            \"actors_names\": [\"asd\", \"adasd\"],\n",
    "            \"writers_names\": [\"asd\", \"adasd\"],\n",
    "            \"actors\": [{\n",
    "                \"id\": uuid.uuid4(),\n",
    "                \"name\": \"asdad\"\n",
    "            }],\n",
    "            \"writers\": [{\n",
    "                \"id\": uuid.uuid4(),\n",
    "                \"name\": \"asdad\"\n",
    "            }]\n",
    "        }   \n",
    "    )"
   ]
  },
  {
   "cell_type": "code",
   "execution_count": null,
   "metadata": {},
   "outputs": [],
   "source": [
    "_id = uuid.uuid4()\n",
    "\n",
    "test_doc = { # the body of the document\n",
    "    \"id\":  _id, \n",
    "    \"imdb_rating\": 3.3,\n",
    "    \"genre\":[\"asd\", \"adasd\"],\n",
    "    \"title\": \"asdadasdasd\",\n",
    "    \"description\": \"asdasd\",\n",
    "    \"director\": [\"asd\", \"adasd\"],\n",
    "    \"actors_names\": [\"asd\", \"adasd\"],\n",
    "    \"writers_names\": [\"asd\", \"adasd\"],\n",
    "    \"actors\": [{\n",
    "        \"id\": uuid.uuid4(),\n",
    "        \"name\": \"asdad\"\n",
    "    }],\n",
    "    \"writers\": [{\n",
    "        \"id\": uuid.uuid4(),\n",
    "        \"name\": \"asdad\"\n",
    "    }]\n",
    "}\n",
    "es.index(index=\"movies\", document=test_doc, id=_id)"
   ]
  },
  {
   "cell_type": "code",
   "execution_count": null,
   "metadata": {},
   "outputs": [],
   "source": [
    "from elasticsearch.helpers import bulk"
   ]
  },
  {
   "cell_type": "code",
   "execution_count": null,
   "metadata": {},
   "outputs": [],
   "source": [
    "bulk(es, actions=operations, index=\"movies\")"
   ]
  }
 ],
 "metadata": {
  "kernelspec": {
   "display_name": "venv",
   "language": "python",
   "name": "python3"
  },
  "language_info": {
   "codemirror_mode": {
    "name": "ipython",
    "version": 3
   },
   "file_extension": ".py",
   "mimetype": "text/x-python",
   "name": "python",
   "nbconvert_exporter": "python",
   "pygments_lexer": "ipython3",
   "version": "3.10.6"
  },
  "orig_nbformat": 4
 },
 "nbformat": 4,
 "nbformat_minor": 2
}
